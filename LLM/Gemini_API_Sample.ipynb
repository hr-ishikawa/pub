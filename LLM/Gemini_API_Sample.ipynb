{
 "cells": [
  {
   "cell_type": "markdown",
   "id": "57f0250b-57b5-42e9-a9c6-d4962b61c21c",
   "metadata": {},
   "source": [
    "# Gemini インターフェースを使ってみる\n",
    "\n",
    "Geminiには無料使用枠があるので。\n",
    "\n",
    "API Keyの取得方法  \n",
    "- https://ai.google.dev/ へアクセス、Googleへログオン (GmailなどのGoogleアカウントでOK)  \n",
    "- 「Explore models in Google AI Studio」をクリック\n",
    "- 「Get API Key」をクリック\n",
    "- 「＋ API キーを作成」をクリック\n",
    "- 既存のプロジェクト、または新規のプロジェクトにAPIを作成"
   ]
  },
  {
   "cell_type": "markdown",
   "id": "32086032-14ba-4f0f-8ccb-b3efc31cec84",
   "metadata": {},
   "source": [
    "## 単純なチャット"
   ]
  },
  {
   "cell_type": "code",
   "execution_count": 1,
   "id": "e0fd4196-04a9-4934-a4e5-5d68ec72a645",
   "metadata": {},
   "outputs": [
    {
     "name": "stdout",
     "output_type": "stream",
     "text": [
      "1. 東京の名物はたくさんありますが、いくつか代表的なものを挙げますね。\n",
      "\n",
      "*   **食べ物:** もんじゃ焼き、深川めし、江戸前寿司、人形焼、雷おこし、東京ばな奈、あんみつ、くず餅、どじょう鍋など\n",
      "*   **工芸品:** 江戸切子、東京染小紋、東京無地染、江戸指物、東京銀器など\n",
      "*   **その他:** 浅草の雷門、渋谷のスクランブル交差点、東京タワー、東京スカイツリーなど\n",
      "\n",
      "2. 本田技研工業株式会社の社長は、**三部 敏宏（みべ としひろ）** さんです。\n"
     ]
    }
   ],
   "source": [
    "import google.genai as genai\n",
    "\n",
    "# クライアントを作成\n",
    "with open('GOOGLE_API_KEY.txt', 'r') as f:  # ファイルからアクセスキーを取得\n",
    "    api_key = f.read().strip()\n",
    "client = genai.Client(api_key=api_key)\n",
    "\n",
    "# プロンプトを定義\n",
    "prompt = ['1. 東京の名物を教えてください。', \n",
    "          '2. 本田技研工業株式会社の社長の氏名を教えてください。']\n",
    "\n",
    "# モデルを使用してレスポンスを生成\n",
    "response = client.models.generate_content(\n",
    "    model='gemini-2.0-flash-exp',  # または 'gemini-2.0-flash-thinking-exp'\n",
    "    contents=[prompt]  # リスト形式\n",
    ")\n",
    "print(response.text)"
   ]
  },
  {
   "cell_type": "code",
   "execution_count": 2,
   "id": "c0d6fd9e-af77-41ea-baf1-da4ab3d1c8bd",
   "metadata": {},
   "outputs": [
    {
     "name": "stdout",
     "output_type": "stream",
     "text": [
      "1.  **要約:** 67歳の元東京在住のコンピュータシステムエンジニア。甘いものは苦手で、時々散歩をする。\n",
      "\n",
      "2.  **好きなもの:** 文章から具体的に好きなものを特定することはできません。「散歩をたまにする」ことから、嫌いではないと考えられますが、好きなものと断定はできません。嫌いなものは「甘いもの」とわかります。\n",
      "\n"
     ]
    }
   ],
   "source": [
    "import google.genai as genai\n",
    "\n",
    "# クライアントを作成\n",
    "with open('GOOGLE_API_KEY.txt', 'r') as f:  # ファイルからアクセスキーを取得\n",
    "    api_key = f.read().strip()\n",
    "client = genai.Client(api_key=api_key)\n",
    "\n",
    "# プロンプトを定義\n",
    "prompt = ['文章、',\n",
    "          '「私は67歳です。以前は東京に住んでいました。職業はエンジニアです。分野はコンピュータシステムです。',\n",
    "          '甘いものは好きではありません。たまに散歩をします。」',\n",
    "          '1) 要約してください。',\n",
    "          '2) 私の好きなものは何ですか。']\n",
    "\n",
    "# モデルを使用してレスポンスを生成\n",
    "response = client.models.generate_content(\n",
    "    model='gemini-2.0-flash-exp',  # または 'gemini-2.0-flash-thinking-exp'\n",
    "    contents=[prompt]  # リスト形式\n",
    ")\n",
    "print(response.text)"
   ]
  },
  {
   "cell_type": "markdown",
   "id": "cefd5b45-ea8c-4d6b-9504-f99f22712fb0",
   "metadata": {},
   "source": [
    "## 画像から"
   ]
  },
  {
   "cell_type": "code",
   "execution_count": 3,
   "id": "b3b15c9d-95c6-4679-a2a4-e288e737711b",
   "metadata": {},
   "outputs": [
    {
     "name": "stdout",
     "output_type": "stream",
     "text": [
      "はい、このイメージは本田技研工業株式会社の2026年3月期第1四半期の決算短信です。以下に内容をまとめます。\n",
      "\n",
      "**1. 会社情報**\n",
      "*   **会社名:** 本田技研工業株式会社\n",
      "*   **コード番号:** 7267\n",
      "*   **URL:** [https://global.honda/jp/investors/](https://global.honda/jp/investors/)\n",
      "*   **代表者:** 三部敏宏（取締役 代表執行役社長）\n",
      "*   **問い合わせ先:** 川口正雄（経理財務統括部統括部長）\n",
      "*   **開示日:** 2025年8月6日\n",
      "*   **上場取引所:** 東\n",
      "*   **決算補足説明資料、決算説明会の有無:** いずれも有\n",
      "\n",
      "**2. 2026年3月期第1四半期連結業績（2025年4月1日～2025年6月30日）**\n",
      "\n",
      "**(1) 連結経営成績（累計）**\n",
      "\n",
      "*   **売上収益:** 5兆3402億6800万円 (前年同期比1.2%減)\n",
      "*   **営業利益:** 2441億7000万円 (前年同期比49.6%減)\n",
      "*   **税引前利益:** 2923億3400万円 (前年同期比47.7%減)\n",
      "*   **四半期利益:** 2148億9400万円 (前年同期比48.1%減)\n",
      "*   **親会社の所有者に帰属する四半期利益:** 1966億7000万円 (前年同期比50.2%減)\n",
      "*   **四半期包括利益合計額:** -38億3600万円\n",
      "*   **基本的1株当たり四半期利益:** 46.80円\n",
      "*   **希薄化後1株当たり四半期利益:** 46.80円\n",
      "\n",
      "**(2) 連結財政状態**\n",
      "\n",
      "*   **資産合計:** 29兆8745億5000万円\n",
      "*   **資本合計:** 12兆6280万円\n",
      "*   **親会社の所有者に帰属する持分:** 11兆7968億3600万円\n",
      "*   **親会社所有者帰属持分比率:** 39.5%\n",
      "\n",
      "**3. 配当の状況**\n",
      "\n",
      "*   **2025年3月期末:** 34.00円\n",
      "*   **2026年3月期(予想)末:** 35.00円\n",
      "*   **年間合計(予想):** 70.00円\n",
      "*   **配当予想の修正:** 無\n",
      "\n",
      "**4. 2026年3月期の連結業績予想（2025年4月1日～2026年3月31日）**\n",
      "\n",
      "*   **売上収益 (通期予想):** 21兆1000億円 (前期比2.7%減)\n",
      "*   **営業利益 (通期予想):** 7000億円 (前期比42.3%減)\n",
      "*   **税引前利益 (通期予想):** 7100億円 (前期比46.1%減)\n",
      "*   **当期利益 (通期予想):** 4900億円 (前期比45.7%減)\n",
      "*   **親会社の所有者に帰属する当期利益:** 4200億円 (前期比49.8%減)\n",
      "*   **基本的1株当たり当期利益:** 105.07円\n",
      "*   **業績予想の修正:** 有\n",
      "\n",
      "**まとめ**\n",
      "2026年3月期第1四半期の業績は、売上収益、営業利益、税引前利益、四半期利益、親会社の所有者に帰属する四半期利益のいずれも前年同期比で大幅な減益となっています。通期の業績予想も下方修正されており、厳しい状況が示唆されています。\n"
     ]
    }
   ],
   "source": [
    "from google.genai import types\n",
    "\n",
    "with open('GOOGLE_API_KEY.txt', 'r') as f:  # ファイルからアクセスキーを取得\n",
    "    api_key = f.read().strip()\n",
    "client = genai.Client(api_key=api_key)\n",
    "\n",
    "with open('HONDA決算短信-202603_1.png', 'rb') as f:\n",
    "    image_bytes = f.read()\n",
    "\n",
    "response = client.models.generate_content(\n",
    "    model='gemini-2.0-flash',\n",
    "    contents=[\n",
    "      types.Part.from_bytes(\n",
    "        data=image_bytes,\n",
    "        mime_type='image/png',      #'image/jpeg',\n",
    "      ),\n",
    "      'このイメージを解説してください'\n",
    "    ]\n",
    ")\n",
    "\n",
    "print(response.text)"
   ]
  },
  {
   "cell_type": "code",
   "execution_count": null,
   "id": "2080bc59-f803-49d1-a248-f69e18ad666d",
   "metadata": {},
   "outputs": [],
   "source": []
  }
 ],
 "metadata": {
  "kernelspec": {
   "display_name": "Python 3 (ipykernel)",
   "language": "python",
   "name": "python3"
  },
  "language_info": {
   "codemirror_mode": {
    "name": "ipython",
    "version": 3
   },
   "file_extension": ".py",
   "mimetype": "text/x-python",
   "name": "python",
   "nbconvert_exporter": "python",
   "pygments_lexer": "ipython3",
   "version": "3.13.7"
  }
 },
 "nbformat": 4,
 "nbformat_minor": 5
}
