{
 "cells": [
  {
   "cell_type": "markdown",
   "id": "c00fd584-882a-4f48-a65e-26d006ddeaab",
   "metadata": {},
   "source": [
    "## **NoneとかNullとかNaNとか調べてみた**\n",
    "\n",
    "いつでも迷う(混乱する)pythonのまとめ"
   ]
  },
  {
   "cell_type": "code",
   "execution_count": 2,
   "id": "71fb4740-9b3a-4be7-bc12-44b97abe17e9",
   "metadata": {},
   "outputs": [],
   "source": [
    "import io\n",
    "import math\n",
    "import numpy as np\n",
    "import pandas as pd"
   ]
  },
  {
   "cell_type": "markdown",
   "id": "067932d7-4a6f-4c94-86b0-6a49201cec0c",
   "metadata": {},
   "source": [
    "|設定|None|np.nan<br>math.nan|-|\n",
    "|判定|xx is None|np.math<br> xx is np.nan<br> np.isnan(xx)<br> math.isnan(xx)<br>math.nan<br> xx is math.nan<br> np.isnan(xx)<br> math.isnan(xx)||"
   ]
  },
  {
   "cell_type": "markdown",
   "id": "f5bbb3d3-e524-4112-a038-698e597496cf",
   "metadata": {},
   "source": [
    "pythonではオブジェクトが値を持たない場合にNoneとかnullとかnanがあり、いつも迷うので以下にまとめ。  \n",
    "<br>\n",
    "ざっくり言うと、  \n",
    "\n",
    "|値|説明|\n",
    "|--|--|\n",
    "|None|表示上はNone、値がないということを表す. 'NoneType'という型のシングルトンオブジェクト|\n",
    "|nan|表示上はnanまたはNaN、値がないということを表す. 型はfloat.  実はnp.nanとmath.nanがある|\n",
    "|null|nullという値、型は存在しない.pandasにisnull()というメッソドがあるため混乱を招いている.<br>後述動作から推測すると、Noneとnanを合わせた概念か.|"
   ]
  },
  {
   "cell_type": "code",
   "execution_count": 56,
   "id": "839ff4be-2890-4023-ba34-e7aaed8c593d",
   "metadata": {},
   "outputs": [
    {
     "name": "stdout",
     "output_type": "stream",
     "text": [
      "None <class 'NoneType'>\n",
      "nan <class 'float'>\n",
      "nan <class 'float'>\n"
     ]
    }
   ],
   "source": [
    "print(None, type(None))\n",
    "print(np.nan, type(np.nan))\n",
    "print(math.nan, type(math.nan))\n",
    "#print(null, type(null))     #==> Error"
   ]
  },
  {
   "cell_type": "markdown",
   "id": "554d5fbe-14e8-463d-9d08-bb46644bdbd9",
   "metadata": {},
   "source": [
    "### **単独での判定**\n",
    "\n",
    "||xx is None|np.isnan(xx)|math.isnan(xx)|xx == np.isnan|xx == math.isnan|\n",
    "|--|--|--|--|--|--|\n",
    "|None|**True**|TypeError|TypeError|**False**|**False**|\n",
    "|np.nan|**False**|**True**|**True**|**False**|**False**|\n",
    "|math.nan|**False**|**True**|**True**|**False**|**False**|\n"
   ]
  },
  {
   "cell_type": "code",
   "execution_count": 86,
   "id": "f0a8141a-b982-4cc4-a59a-adf78a5e14e4",
   "metadata": {},
   "outputs": [
    {
     "name": "stdout",
     "output_type": "stream",
     "text": [
      "\n",
      "## xx = None\n",
      "xx is None, xx= True\n",
      "xx == np.isnan, xx= False\n",
      "xx == math.isnan, xx= False\n",
      "\n",
      "## xx = nan\n",
      "xx is None, xx= False\n",
      "np.isnan(xx), xx= True\n",
      "math.isnan(xx), xx= True\n",
      "xx == np.isnan, xx= False\n",
      "xx == math.isnan, xx= False\n",
      "\n",
      "## xx = nan\n",
      "xx is None, xx= False\n",
      "np.isnan(xx), xx= True\n",
      "math.isnan(xx), xx= True\n",
      "xx == np.isnan, xx= False\n",
      "xx == math.isnan, xx= False\n"
     ]
    }
   ],
   "source": [
    "xx = None\n",
    "print('\\n## xx =', xx)\n",
    "print('xx is None, xx=',       xx is None)\n",
    "# print('np.isnan(xx), xx=',     np.isnan(xx))   #==> TypeError\n",
    "# print('math.isnan(xx), xx=',   math.isnan(xx)) #==> TypeError\n",
    "print('xx == np.isnan, xx=',   xx == np.isnan)\n",
    "print('xx == math.isnan, xx=', xx == math.isnan)\n",
    "\n",
    "xx = np.nan\n",
    "print('\\n## xx =', xx)\n",
    "print('xx is None, xx=',       xx is None)\n",
    "print('np.isnan(xx), xx=',     np.isnan(xx))\n",
    "print('math.isnan(xx), xx=',   math.isnan(xx))\n",
    "print('xx == np.isnan, xx=',   xx == np.isnan)\n",
    "print('xx == math.isnan, xx=', xx == math.isnan)\n",
    "\n",
    "xx = math.nan\n",
    "print('\\n## xx =', xx)\n",
    "print('xx is None, xx=',       xx is None)\n",
    "print('np.isnan(xx), xx=',     np.isnan(xx))\n",
    "print('math.isnan(xx), xx=',   math.isnan(xx))\n",
    "print('xx == np.isnan, xx=',   xx == np.isnan)\n",
    "print('xx == math.isnan, xx=', xx == math.isnan)"
   ]
  },
  {
   "cell_type": "markdown",
   "id": "02c7eddd-a3a6-49f6-bdea-e3c964a77859",
   "metadata": {},
   "source": [
    "<br>\n",
    "\n",
    "### **numpyの場合**\n",
    "\n",
    "np.nan, math.nanを含むnumpy array"
   ]
  },
  {
   "cell_type": "code",
   "execution_count": 127,
   "id": "427d9fb2-9757-4c52-a235-890ae3a5206f",
   "metadata": {},
   "outputs": [
    {
     "name": "stdout",
     "output_type": "stream",
     "text": [
      "[ 1. nan nan] <class 'numpy.ndarray'> \n",
      " <class 'numpy.float64'> <class 'numpy.float64'>\n",
      "[False  True  True]\n"
     ]
    }
   ],
   "source": [
    "arr1 = np.array([1, np.nan, math.nan])\n",
    "print(arr1, type(arr1), '\\n', type(arr1[1]), type(arr1[2]))\n",
    "print(np.isnan(arr1))\n",
    "# print(arr1.isnan()) # ==> AttributeError: 'numpy.ndarray' object has no attribute 'isnan'"
   ]
  },
  {
   "cell_type": "markdown",
   "id": "208b7788-1958-40e2-8fe6-3fbd8f8afcbc",
   "metadata": {},
   "source": [
    "nummpy array内にnp.nanとmath.nanが混在していても、isnan関数は区別なく動作する.  \n",
    "なお、メソッドは無いようだ.\n",
    "\n",
    "<br>\n",
    "\n",
    "Noneを含んだ場合のnumpy array"
   ]
  },
  {
   "cell_type": "code",
   "execution_count": 142,
   "id": "47890452-62c2-4566-a591-35a310d710f5",
   "metadata": {},
   "outputs": [
    {
     "name": "stdout",
     "output_type": "stream",
     "text": [
      "[1 None nan nan] <class 'numpy.ndarray'> \n",
      " <class 'int'> <class 'NoneType'> <class 'float'>\n"
     ]
    }
   ],
   "source": [
    "arr2 = np.array([1, None, np.nan, math.nan]) # type混在\n",
    "print(arr2, type(arr2), '\\n', type(arr2[0]), type(arr2[1]), type(arr2[2]))\n",
    "# print(np.isnan(arr2))                      # ==> TypeError"
   ]
  },
  {
   "cell_type": "markdown",
   "id": "a70facad-bfa8-468d-a3ea-841f7ef177aa",
   "metadata": {},
   "source": [
    "Noneを含んだarrayは作成できるが、そのままでisnan関数適用するとTypeErrorになる."
   ]
  },
  {
   "cell_type": "code",
   "execution_count": 143,
   "id": "eceb5649-f33a-4d5e-8efd-de28483ada0c",
   "metadata": {},
   "outputs": [
    {
     "name": "stdout",
     "output_type": "stream",
     "text": [
      "[ 1. nan nan nan] <class 'numpy.ndarray'> \n",
      " <class 'numpy.float64'> <class 'numpy.float64'> <class 'numpy.float64'>\n",
      "[False  True  True  True]\n"
     ]
    }
   ],
   "source": [
    "arr3 = arr2.astype(float)\n",
    "print(arr3, type(arr3), '\\n', type(arr3[0]), type(arr3[1]), type(arr3[2]))\n",
    "print(np.isnan(arr3))"
   ]
  },
  {
   "cell_type": "markdown",
   "id": "c2e0083e-8ab6-4821-81aa-6390344c12c1",
   "metadata": {},
   "source": [
    "Noneを含んだarrayをfloatに変換すると、isnan関数が適用できるようになる.\n",
    "その時、Noneはnp.nanに変換される"
   ]
  },
  {
   "cell_type": "markdown",
   "id": "95685f92-d337-44a6-b6c1-db4e00d82d5b",
   "metadata": {},
   "source": [
    "<br>\n",
    "\n",
    "### **pandas.Seriesの場合**"
   ]
  },
  {
   "cell_type": "code",
   "execution_count": 145,
   "id": "3a1b1b3a-be06-4db8-bcd8-3014b18923a5",
   "metadata": {},
   "outputs": [
    {
     "name": "stdout",
     "output_type": "stream",
     "text": [
      "0       1\n",
      "1    None\n",
      "2     NaN\n",
      "3     NaN\n",
      "dtype: object <class 'pandas.core.series.Series'> \n",
      " <class 'int'> <class 'NoneType'> <class 'float'>\n",
      "0    False\n",
      "1     True\n",
      "2     True\n",
      "3     True\n",
      "dtype: bool\n"
     ]
    }
   ],
   "source": [
    "arr2 = np.array([1, None, np.nan, math.nan]) # type混在\n",
    "sr1 = pd.Series(arr2)\n",
    "print(sr1, type(sr), '\\n', type(sr1[0]), type(sr1[1]), type(sr1[2]))\n",
    "print(sr1.isnull())"
   ]
  },
  {
   "cell_type": "markdown",
   "id": "eadc0f1b-eff0-45c3-9508-de1f7ba426ef",
   "metadata": {},
   "source": [
    "型が混在しているnumpy.arrからpandas.Seriseに変換した場合は、Serise内でも型が混在しているが、is.nullメソッドはNone, np.nan, math.nanを期待通りに処理してくれる."
   ]
  },
  {
   "cell_type": "code",
   "execution_count": 257,
   "id": "b4eb7761-a36d-48b1-a465-f9ac85e6fb92",
   "metadata": {},
   "outputs": [
    {
     "name": "stdout",
     "output_type": "stream",
     "text": [
      "0    1.0\n",
      "1    NaN\n",
      "2    NaN\n",
      "3    NaN\n",
      "dtype: float64 <class 'pandas.core.series.Series'> \n",
      " <class 'numpy.float64'> <class 'numpy.float64'> <class 'numpy.float64'>\n",
      "0    False\n",
      "1     True\n",
      "2     True\n",
      "3     True\n",
      "dtype: bool\n",
      "0       a\n",
      "1    None\n",
      "2     NaN\n",
      "3     NaN\n",
      "dtype: object <class 'pandas.core.series.Series'> \n",
      " <class 'str'> <class 'NoneType'> <class 'float'>\n",
      "0    False\n",
      "1     True\n",
      "2     True\n",
      "3     True\n",
      "dtype: bool\n"
     ]
    }
   ],
   "source": [
    "sr2 = pd.Series([1, None, np.nan, math.nan])  # type混在\n",
    "print(sr2, type(sr2), '\\n', type(sr2[0]), type(sr2[1]), type(sr2[2]))\n",
    "print(sr2.isnull())\n",
    "sr3 = pd.Series(['a', None, np.nan, math.nan])  # type混在\n",
    "print(sr3, type(sr3), '\\n', type(sr3[0]), type(sr3[1]), type(sr3[2]))\n",
    "print(sr3.isnull())"
   ]
  },
  {
   "cell_type": "markdown",
   "id": "84d7153f-b8e6-421a-b38c-5126959f495f",
   "metadata": {},
   "source": [
    "型が混在しているリストからpandas.Seriseに変換した場合では、None, nan以外が数値の場合には、Serise全体がnumpy.floatになり、Noneはnanに変換される。None, nan以外にstr(文字(列))がある場合には型が混在するSeriseになる.いずれの場合もis.nullメソッドはNone, np.nan, math.nanを期待通りに処理してくれる."
   ]
  },
  {
   "cell_type": "markdown",
   "id": "7d28a2d1-f0b5-4f3a-ad75-aa764a5a4f2f",
   "metadata": {},
   "source": [
    "<br>\n",
    "\n",
    "### **pandas.read_csvの場合**"
   ]
  },
  {
   "cell_type": "code",
   "execution_count": 259,
   "id": "e2f1ed2d-01e3-4ef7-bccf-beaa19de4dfc",
   "metadata": {},
   "outputs": [
    {
     "data": {
      "text/html": [
       "<div>\n",
       "<style scoped>\n",
       "    .dataframe tbody tr th:only-of-type {\n",
       "        vertical-align: middle;\n",
       "    }\n",
       "\n",
       "    .dataframe tbody tr th {\n",
       "        vertical-align: top;\n",
       "    }\n",
       "\n",
       "    .dataframe thead th {\n",
       "        text-align: right;\n",
       "    }\n",
       "</style>\n",
       "<table border=\"1\" class=\"dataframe\">\n",
       "  <thead>\n",
       "    <tr style=\"text-align: right;\">\n",
       "      <th></th>\n",
       "      <th>A</th>\n",
       "      <th>B</th>\n",
       "      <th>C</th>\n",
       "      <th>D</th>\n",
       "      <th>E</th>\n",
       "      <th>F</th>\n",
       "    </tr>\n",
       "  </thead>\n",
       "  <tbody>\n",
       "    <tr>\n",
       "      <th>0</th>\n",
       "      <td>a</td>\n",
       "      <td>b</td>\n",
       "      <td>1</td>\n",
       "      <td>2.0</td>\n",
       "      <td>3.0</td>\n",
       "      <td>4.0</td>\n",
       "    </tr>\n",
       "    <tr>\n",
       "      <th>1</th>\n",
       "      <td>NaN</td>\n",
       "      <td>NaN</td>\n",
       "      <td>NaN</td>\n",
       "      <td>NaN</td>\n",
       "      <td>NaN</td>\n",
       "      <td>NaN</td>\n",
       "    </tr>\n",
       "    <tr>\n",
       "      <th>2</th>\n",
       "      <td>None</td>\n",
       "      <td>NaN</td>\n",
       "      <td>None</td>\n",
       "      <td>NaN</td>\n",
       "      <td>NaN</td>\n",
       "      <td>2.0</td>\n",
       "    </tr>\n",
       "    <tr>\n",
       "      <th>3</th>\n",
       "      <td>NaN</td>\n",
       "      <td>NaN</td>\n",
       "      <td>NaN</td>\n",
       "      <td>NaN</td>\n",
       "      <td>NaN</td>\n",
       "      <td>NaN</td>\n",
       "    </tr>\n",
       "    <tr>\n",
       "      <th>4</th>\n",
       "      <td>NaN</td>\n",
       "      <td>NaN</td>\n",
       "      <td>NaN</td>\n",
       "      <td>NaN</td>\n",
       "      <td>NaN</td>\n",
       "      <td>NaN</td>\n",
       "    </tr>\n",
       "  </tbody>\n",
       "</table>\n",
       "</div>"
      ],
      "text/plain": [
       "      A    B     C    D    E    F\n",
       "0     a    b     1  2.0  3.0  4.0\n",
       "1   NaN  NaN   NaN  NaN  NaN  NaN\n",
       "2  None  NaN  None  NaN  NaN  2.0\n",
       "3   NaN  NaN   NaN  NaN  NaN  NaN\n",
       "4   NaN  NaN   NaN  NaN  NaN  NaN"
      ]
     },
     "metadata": {},
     "output_type": "display_data"
    },
    {
     "data": {
      "text/plain": [
       "A     object\n",
       "B     object\n",
       "C     object\n",
       "D    float64\n",
       "E    float64\n",
       "F    float64\n",
       "dtype: object"
      ]
     },
     "metadata": {},
     "output_type": "display_data"
    },
    {
     "name": "stdout",
     "output_type": "stream",
     "text": [
      "None\n"
     ]
    },
    {
     "data": {
      "text/html": [
       "<div>\n",
       "<style scoped>\n",
       "    .dataframe tbody tr th:only-of-type {\n",
       "        vertical-align: middle;\n",
       "    }\n",
       "\n",
       "    .dataframe tbody tr th {\n",
       "        vertical-align: top;\n",
       "    }\n",
       "\n",
       "    .dataframe thead th {\n",
       "        text-align: right;\n",
       "    }\n",
       "</style>\n",
       "<table border=\"1\" class=\"dataframe\">\n",
       "  <thead>\n",
       "    <tr style=\"text-align: right;\">\n",
       "      <th></th>\n",
       "      <th>A</th>\n",
       "      <th>B</th>\n",
       "      <th>C</th>\n",
       "      <th>D</th>\n",
       "      <th>E</th>\n",
       "      <th>F</th>\n",
       "    </tr>\n",
       "  </thead>\n",
       "  <tbody>\n",
       "    <tr>\n",
       "      <th>0</th>\n",
       "      <td>&lt;'str'&gt;</td>\n",
       "      <td>&lt;'str'&gt;</td>\n",
       "      <td>&lt;'str'&gt;</td>\n",
       "      <td>&lt;'numpy.float64'&gt;</td>\n",
       "      <td>&lt;'numpy.float64'&gt;</td>\n",
       "      <td>&lt;'numpy.float64'&gt;</td>\n",
       "    </tr>\n",
       "    <tr>\n",
       "      <th>1</th>\n",
       "      <td>&lt;'float'&gt;</td>\n",
       "      <td>&lt;'float'&gt;</td>\n",
       "      <td>&lt;'float'&gt;</td>\n",
       "      <td>&lt;'numpy.float64'&gt;</td>\n",
       "      <td>&lt;'numpy.float64'&gt;</td>\n",
       "      <td>&lt;'numpy.float64'&gt;</td>\n",
       "    </tr>\n",
       "    <tr>\n",
       "      <th>2</th>\n",
       "      <td>&lt;'str'&gt;</td>\n",
       "      <td>&lt;'float'&gt;</td>\n",
       "      <td>&lt;'str'&gt;</td>\n",
       "      <td>&lt;'numpy.float64'&gt;</td>\n",
       "      <td>&lt;'numpy.float64'&gt;</td>\n",
       "      <td>&lt;'numpy.float64'&gt;</td>\n",
       "    </tr>\n",
       "    <tr>\n",
       "      <th>3</th>\n",
       "      <td>&lt;'float'&gt;</td>\n",
       "      <td>&lt;'float'&gt;</td>\n",
       "      <td>&lt;'float'&gt;</td>\n",
       "      <td>&lt;'numpy.float64'&gt;</td>\n",
       "      <td>&lt;'numpy.float64'&gt;</td>\n",
       "      <td>&lt;'numpy.float64'&gt;</td>\n",
       "    </tr>\n",
       "    <tr>\n",
       "      <th>4</th>\n",
       "      <td>&lt;'float'&gt;</td>\n",
       "      <td>&lt;'float'&gt;</td>\n",
       "      <td>&lt;'float'&gt;</td>\n",
       "      <td>&lt;'numpy.float64'&gt;</td>\n",
       "      <td>&lt;'numpy.float64'&gt;</td>\n",
       "      <td>&lt;'numpy.float64'&gt;</td>\n",
       "    </tr>\n",
       "  </tbody>\n",
       "</table>\n",
       "</div>"
      ],
      "text/plain": [
       "           A          B          C                  D                  E  \\\n",
       "0    <'str'>    <'str'>    <'str'>  <'numpy.float64'>  <'numpy.float64'>   \n",
       "1  <'float'>  <'float'>  <'float'>  <'numpy.float64'>  <'numpy.float64'>   \n",
       "2    <'str'>  <'float'>    <'str'>  <'numpy.float64'>  <'numpy.float64'>   \n",
       "3  <'float'>  <'float'>  <'float'>  <'numpy.float64'>  <'numpy.float64'>   \n",
       "4  <'float'>  <'float'>  <'float'>  <'numpy.float64'>  <'numpy.float64'>   \n",
       "\n",
       "                   F  \n",
       "0  <'numpy.float64'>  \n",
       "1  <'numpy.float64'>  \n",
       "2  <'numpy.float64'>  \n",
       "3  <'numpy.float64'>  \n",
       "4  <'numpy.float64'>  "
      ]
     },
     "metadata": {},
     "output_type": "display_data"
    }
   ],
   "source": [
    "csv_text =                    \\\n",
    "',A,B,C,D,E,F\\n'             +\\\n",
    "'0,a,b,1,2,3,4\\n'            +\\\n",
    "'1,,,,,,\\n'                  +\\\n",
    "'2,None,,None,,\"\",2\\n'       +\\\n",
    "'3,NaN,NaN,NaN,NaN,NaN,NaN\\n'+\\\n",
    "'4,nan,nan,nan,nan,nan,nan'\n",
    "df = pd.read_csv(io.StringIO(csv_text), header=0, index_col=0)\n",
    "display(df, df.dtypes)\n",
    "\n",
    "df_type = df.copy()\n",
    "for c in df_type.columns:\n",
    "    df_type[c] = [str(type(df.loc[i,c])) for i in df.index]\n",
    "    df_type[c] = df_type[c].str.replace('class ','')\n",
    "display(df_type)"
   ]
  },
  {
   "cell_type": "markdown",
   "id": "0e8a61e1-759a-443f-95e7-2b2481908bfb",
   "metadata": {},
   "source": [
    "pandas.read_csvでファイルまたはテキストからpandas.DataFrameを作成した場合、\n",
    "- Noneは文字列\"None\"として読み込まれる\n",
    "- CSV上で値を持たない場合および長さが0の文字列(\"\")を読み込むと、nanとして読み込まれる\n",
    "\n",
    "以降は各列に対して、pandas.Seriesをリストから作成した場合に準じた動作となる。"
   ]
  },
  {
   "cell_type": "markdown",
   "id": "fc512b7d-6fc6-4e80-9893-574242129cdb",
   "metadata": {},
   "source": [
    "<br>\n",
    "\n",
    "### **pandas/numpy メッソド/関数**  \n",
    "\n",
    "pdxx = pd.Series([1, 2, 3, None, np.nan, math.nan])  \n",
    "npxx = np.array( [1, 2, 3, np.nan, np.nan, math.nan])  \n",
    "\n",
    "||pd.Series|np.array|Notes|\n",
    "|--|--|--|--|\n",
    "|**pdxx.sum()**            |**✓**|-||\n",
    "|**pdxx.sum(skipna=True)** |**✓**|-||\n",
    "|**pdxx.sum(skipna=False)**|**nan**|-||\n",
    "|**np.sum(xx)**            |**✓**|**nan**||\n",
    "|**np.nansum(xx)**         |**✓**|**✓**||\n",
    "|**npxx.sum()**            |-|**nan**||\n",
    "|**npxx.nansum()**         |-|-|メソッドは無い|\n",
    "\n",
    "pandasのメッソドでは、nanは除かれて計算される(デフォルト:skipna=True)  \n",
    "numpyのメッソド/関数では、nanが含まれているとnanを返す  \n",
    "numpyでnanを除いて計算するには、numpy関数「nan元の関数名」を使用する. ただしメソッドは無い  \n"
   ]
  },
  {
   "cell_type": "code",
   "execution_count": 24,
   "id": "b6c5ae6d-5deb-4228-9775-6f02209a8a05",
   "metadata": {},
   "outputs": [
    {
     "name": "stdout",
     "output_type": "stream",
     "text": [
      "0    1.0\n",
      "1    2.0\n",
      "2    3.0\n",
      "3    NaN\n",
      "4    NaN\n",
      "5    NaN\n",
      "dtype: float64\n",
      "6.0\n",
      "6.0\n",
      "nan\n",
      "6.0\n"
     ]
    }
   ],
   "source": [
    "sr8 = pd.Series([1, 2, 3, None, np.nan, math.nan])\n",
    "print(sr8)\n",
    "print(sr8.sum()) # 6.0\n",
    "print(sr8.sum(skipna=True)) # 6.6\n",
    "print(sr8.sum(skipna=False)) # nan\n",
    "print(np.sum(sr8)) # 6.0"
   ]
  },
  {
   "cell_type": "code",
   "execution_count": 28,
   "id": "a91aa545-76e2-4c2a-b661-8168368f1b1a",
   "metadata": {},
   "outputs": [
    {
     "name": "stdout",
     "output_type": "stream",
     "text": [
      "[ 1.  2.  3. nan nan nan]\n",
      "6.0 1.0 2.0\n",
      "nan nan nan\n",
      "6.0 1.0 2.0\n",
      "6.0 1.0 2.0\n",
      "nan nan nan\n"
     ]
    }
   ],
   "source": [
    "arr8 = np.array([1, 2, 3, np.nan, np.nan, math.nan])\n",
    "print(arr8)\n",
    "print(np.sum(sr8),     np.min(sr8),     np.mean(sr8)    ) # 6.0\n",
    "print(np.sum(arr8),    np.min(arr8),    np.mean(arr8)   ) # nan\n",
    "print(np.nansum(sr8),  np.nanmin(sr8),  np.nanmean(sr8) ) # 6.0\n",
    "print(np.nansum(arr8), np.nanmin(arr8), np.nanmean(arr8)) # 6.0\n",
    "print(arr8.sum(),      arr8.min(),      arr8.mean()     ) # nan\n",
    "# print(arr8.nansum(),   arr8.nansum(),   arr8.nansum()) #=> ERROR"
   ]
  },
  {
   "cell_type": "code",
   "execution_count": null,
   "id": "a30d8c17-04b0-493f-9ed3-4ff08c565dc2",
   "metadata": {},
   "outputs": [],
   "source": []
  }
 ],
 "metadata": {
  "kernelspec": {
   "display_name": "Python 3 (ipykernel)",
   "language": "python",
   "name": "python3"
  },
  "language_info": {
   "codemirror_mode": {
    "name": "ipython",
    "version": 3
   },
   "file_extension": ".py",
   "mimetype": "text/x-python",
   "name": "python",
   "nbconvert_exporter": "python",
   "pygments_lexer": "ipython3",
   "version": "3.8.11"
  }
 },
 "nbformat": 4,
 "nbformat_minor": 5
}
